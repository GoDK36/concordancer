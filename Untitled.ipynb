{
 "cells": [
  {
   "cell_type": "code",
   "execution_count": 2,
   "metadata": {},
   "outputs": [
    {
     "name": "stdout",
     "output_type": "stream",
     "text": [
      "['180101 모래시계 제가 지진캠을 찍어왔습니다.', '무슨.', '고기라고 (동공지진) 전역이라며!', '전투용으로 제작된 코어랑 무기만 회수한다면서!.', '171224 엘리시온 in 후쿠오카 엔딩멘트 미나상 바리스토토>.<!', '무슨 뜻인지 모르지만 귀엽다.', '(지진 주의 full ver.', '지?이가 wee woo 들으면서 \"좋아해 아주 많이\" 부르니까 쳐다보는 ?영이와 동공 지진 일으키며 부끄러운 지?이 (^^) ….', '[지진정보] 2018-01-01 19:11:53 경북 포항시 북구 북쪽 8km 지역에서 규모2.0 지진 발생.', '171209 꽃잎을 어떻게 불어야 하나 고민하는 세상귀여운 은우의 동공지진 후우.']\n",
      "검색할 키워드 입력 : 전역\n",
      "양 옆으로 몇 어절을 검색할까요? 3\n",
      "[]\n"
     ]
    }
   ],
   "source": [
    "import os,re\n",
    "import nltk\n",
    "from nltk.tokenize import sent_tokenize\n",
    "\n",
    "txt = \"D:\\GOD's folder\\programming\\school pj\\창회선배 자료\\Test-earthquake.txt\"\n",
    "with open(txt, \"r\") as filetoread:\n",
    "    fileread = filetoread.read()\n",
    "\n",
    "token = re.findall(r'\\b\\w[\\w-]*\\b', fileread)\n",
    "sent_token = sent_tokenize(fileread)\n",
    "\n",
    "\n",
    "print(sent_token[:10])\n",
    "\n",
    "keyword = input(\"검색할 키워드 입력 : \").lower()\n",
    "length = input(\"양 옆으로 몇 어절을 검색할까요? \")\n",
    "\n",
    "def conc(word, list, context, conclist):\n",
    "    end = len(list)\n",
    "    for key in range(end):\n",
    "        if list[key] == word:\n",
    "            if (key - context) < 0:\n",
    "                beginCon = 0\n",
    "            else:\n",
    "                beginCon = key - context\n",
    "\n",
    "            if (key + context) > end:\n",
    "                endCon = end\n",
    "            else:\n",
    "                endCon = key + context + 1\n",
    "\n",
    "            theContext = (list[beginCon:endCon])\n",
    "            concordance = ' '.join(theContext)\n",
    "            conclist.append(concordance)\n",
    "res = []\n",
    "conc(keyword, sent_token, int(length), res)\n",
    "print(res)"
   ]
  },
  {
   "cell_type": "code",
   "execution_count": 3,
   "metadata": {},
   "outputs": [
    {
     "name": "stdout",
     "output_type": "stream",
     "text": [
      "['180101', '모래시계', '제가', '지진캠을', '찍어왔습니다.', '무슨.', '고기라고', '(', '동공지진', ')', '전역이라며', '!', '전투용으로', '제작된', '코어랑', '무기만', '회수한다면서', '!', '.', '171224', '엘리시온', 'in', '후쿠오카', '엔딩멘트', '미나상', '바리스토토', '>', '.', '<', '!', '무슨', '뜻인지', '모르지만', '귀엽다.', '(', '지진', '주의', 'full', 'ver.', '지', '?', '이가', 'wee', 'woo', '들으면서', '``', '좋아해', '아주', '많이', \"''\"]\n"
     ]
    }
   ],
   "source": [
    "import os,re\n",
    "import nltk\n",
    "from nltk.tokenize import TreebankWordTokenizer\n",
    "tokenizer = TreebankWordTokenizer()\n",
    "\n",
    "txt = \"D:\\GOD's folder\\programming\\school pj\\창회선배 자료\\Test-earthquake.txt\"\n",
    "with open(txt, \"r\") as filetoread:\n",
    "    fileread = filetoread.read()\n",
    "\n",
    "token = re.findall(r'\\b\\w[\\w-]*\\b', fileread)\n",
    "tree_token = tokenizer.tokenize(fileread)\n",
    "\n",
    "print(tree_token[:50])\n",
    "\n"
   ]
  },
  {
   "cell_type": "code",
   "execution_count": null,
   "metadata": {},
   "outputs": [],
   "source": []
  }
 ],
 "metadata": {
  "kernelspec": {
   "display_name": "Python 3",
   "language": "python",
   "name": "python3"
  },
  "language_info": {
   "codemirror_mode": {
    "name": "ipython",
    "version": 3
   },
   "file_extension": ".py",
   "mimetype": "text/x-python",
   "name": "python",
   "nbconvert_exporter": "python",
   "pygments_lexer": "ipython3",
   "version": "3.7.2"
  }
 },
 "nbformat": 4,
 "nbformat_minor": 2
}
